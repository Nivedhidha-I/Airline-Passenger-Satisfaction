{
 "cells": [
  {
   "cell_type": "markdown",
   "metadata": {},
   "source": [
    "# Prediction of Airline Passenger Satisfaction using R"
   ]
  },
  {
   "cell_type": "markdown",
   "metadata": {},
   "source": [
    "## Problem Statement :- \n",
    "Airline Service Quality must be checked often for improvising Customers' Experience"
   ]
  },
  {
   "cell_type": "markdown",
   "metadata": {},
   "source": [
    "## Objective :- \n",
    "To analyse then predict the satisfaction level of an airline passenger based on the information filled in feedback form "
   ]
  },
  {
   "cell_type": "markdown",
   "metadata": {},
   "source": [
    "## Setting Up The Environment"
   ]
  },
  {
   "cell_type": "markdown",
   "metadata": {},
   "source": [
    "Installing and Importing the Required Libraries"
   ]
  },
  {
   "cell_type": "code",
   "execution_count": 2,
   "metadata": {
    "scrolled": true
   },
   "outputs": [],
   "source": [
    "# install.packages(\"ggplot2\")\n",
    "library(ggplot2) # for data visualization"
   ]
  },
  {
   "cell_type": "markdown",
   "metadata": {},
   "source": [
    "Loading Of The Dataset"
   ]
  },
  {
   "cell_type": "code",
   "execution_count": 3,
   "metadata": {
    "scrolled": false
   },
   "outputs": [
    {
     "data": {
      "text/html": [
       "<table>\n",
       "<thead><tr><th scope=col>X</th><th scope=col>id</th><th scope=col>Gender</th><th scope=col>Customer.Type</th><th scope=col>Age</th><th scope=col>Type.of.Travel</th><th scope=col>Class</th><th scope=col>Flight.Distance</th><th scope=col>Inflight.wifi.service</th><th scope=col>Departure.Arrival.time.convenient</th><th scope=col>...</th><th scope=col>Inflight.entertainment</th><th scope=col>On.board.service</th><th scope=col>Leg.room.service</th><th scope=col>Baggage.handling</th><th scope=col>Checkin.service</th><th scope=col>Inflight.service</th><th scope=col>Cleanliness</th><th scope=col>Departure.Delay.in.Minutes</th><th scope=col>Arrival.Delay.in.Minutes</th><th scope=col>satisfaction</th></tr></thead>\n",
       "<tbody>\n",
       "\t<tr><td>0                      </td><td> 70172                 </td><td>Male                   </td><td>Loyal Customer         </td><td>13                     </td><td>Personal Travel        </td><td>Eco Plus               </td><td> 460                   </td><td>3                      </td><td>4                      </td><td>...                    </td><td>5                      </td><td>4                      </td><td>3                      </td><td>4                      </td><td>4                      </td><td>5                      </td><td>5                      </td><td>25                     </td><td>18                     </td><td>neutral or dissatisfied</td></tr>\n",
       "\t<tr><td>1                      </td><td>  5047                 </td><td>Male                   </td><td>disloyal Customer      </td><td>25                     </td><td>Business travel        </td><td>Business               </td><td> 235                   </td><td>3                      </td><td>2                      </td><td>...                    </td><td>1                      </td><td>1                      </td><td>5                      </td><td>3                      </td><td>1                      </td><td>4                      </td><td>1                      </td><td> 1                     </td><td> 6                     </td><td>neutral or dissatisfied</td></tr>\n",
       "\t<tr><td>2                      </td><td>110028                 </td><td>Female                 </td><td>Loyal Customer         </td><td>26                     </td><td>Business travel        </td><td>Business               </td><td>1142                   </td><td>2                      </td><td>2                      </td><td>...                    </td><td>5                      </td><td>4                      </td><td>3                      </td><td>4                      </td><td>4                      </td><td>4                      </td><td>5                      </td><td> 0                     </td><td> 0                     </td><td>satisfied              </td></tr>\n",
       "\t<tr><td>3                      </td><td> 24026                 </td><td>Female                 </td><td>Loyal Customer         </td><td>25                     </td><td>Business travel        </td><td>Business               </td><td> 562                   </td><td>2                      </td><td>5                      </td><td>...                    </td><td>2                      </td><td>2                      </td><td>5                      </td><td>3                      </td><td>1                      </td><td>4                      </td><td>2                      </td><td>11                     </td><td> 9                     </td><td>neutral or dissatisfied</td></tr>\n",
       "\t<tr><td>4                      </td><td>119299                 </td><td>Male                   </td><td>Loyal Customer         </td><td>61                     </td><td>Business travel        </td><td>Business               </td><td> 214                   </td><td>3                      </td><td>3                      </td><td>...                    </td><td>3                      </td><td>3                      </td><td>4                      </td><td>4                      </td><td>3                      </td><td>3                      </td><td>3                      </td><td> 0                     </td><td> 0                     </td><td>satisfied              </td></tr>\n",
       "</tbody>\n",
       "</table>\n"
      ],
      "text/latex": [
       "\\begin{tabular}{r|lllllllllllllllllllllllll}\n",
       " X & id & Gender & Customer.Type & Age & Type.of.Travel & Class & Flight.Distance & Inflight.wifi.service & Departure.Arrival.time.convenient & ... & Inflight.entertainment & On.board.service & Leg.room.service & Baggage.handling & Checkin.service & Inflight.service & Cleanliness & Departure.Delay.in.Minutes & Arrival.Delay.in.Minutes & satisfaction\\\\\n",
       "\\hline\n",
       "\t 0                       &  70172                  & Male                    & Loyal Customer          & 13                      & Personal Travel         & Eco Plus                &  460                    & 3                       & 4                       & ...                     & 5                       & 4                       & 3                       & 4                       & 4                       & 5                       & 5                       & 25                      & 18                      & neutral or dissatisfied\\\\\n",
       "\t 1                       &   5047                  & Male                    & disloyal Customer       & 25                      & Business travel         & Business                &  235                    & 3                       & 2                       & ...                     & 1                       & 1                       & 5                       & 3                       & 1                       & 4                       & 1                       &  1                      &  6                      & neutral or dissatisfied\\\\\n",
       "\t 2                       & 110028                  & Female                  & Loyal Customer          & 26                      & Business travel         & Business                & 1142                    & 2                       & 2                       & ...                     & 5                       & 4                       & 3                       & 4                       & 4                       & 4                       & 5                       &  0                      &  0                      & satisfied              \\\\\n",
       "\t 3                       &  24026                  & Female                  & Loyal Customer          & 25                      & Business travel         & Business                &  562                    & 2                       & 5                       & ...                     & 2                       & 2                       & 5                       & 3                       & 1                       & 4                       & 2                       & 11                      &  9                      & neutral or dissatisfied\\\\\n",
       "\t 4                       & 119299                  & Male                    & Loyal Customer          & 61                      & Business travel         & Business                &  214                    & 3                       & 3                       & ...                     & 3                       & 3                       & 4                       & 4                       & 3                       & 3                       & 3                       &  0                      &  0                      & satisfied              \\\\\n",
       "\\end{tabular}\n"
      ],
      "text/markdown": [
       "\n",
       "| X | id | Gender | Customer.Type | Age | Type.of.Travel | Class | Flight.Distance | Inflight.wifi.service | Departure.Arrival.time.convenient | ... | Inflight.entertainment | On.board.service | Leg.room.service | Baggage.handling | Checkin.service | Inflight.service | Cleanliness | Departure.Delay.in.Minutes | Arrival.Delay.in.Minutes | satisfaction |\n",
       "|---|---|---|---|---|---|---|---|---|---|---|---|---|---|---|---|---|---|---|---|---|\n",
       "| 0                       |  70172                  | Male                    | Loyal Customer          | 13                      | Personal Travel         | Eco Plus                |  460                    | 3                       | 4                       | ...                     | 5                       | 4                       | 3                       | 4                       | 4                       | 5                       | 5                       | 25                      | 18                      | neutral or dissatisfied |\n",
       "| 1                       |   5047                  | Male                    | disloyal Customer       | 25                      | Business travel         | Business                |  235                    | 3                       | 2                       | ...                     | 1                       | 1                       | 5                       | 3                       | 1                       | 4                       | 1                       |  1                      |  6                      | neutral or dissatisfied |\n",
       "| 2                       | 110028                  | Female                  | Loyal Customer          | 26                      | Business travel         | Business                | 1142                    | 2                       | 2                       | ...                     | 5                       | 4                       | 3                       | 4                       | 4                       | 4                       | 5                       |  0                      |  0                      | satisfied               |\n",
       "| 3                       |  24026                  | Female                  | Loyal Customer          | 25                      | Business travel         | Business                |  562                    | 2                       | 5                       | ...                     | 2                       | 2                       | 5                       | 3                       | 1                       | 4                       | 2                       | 11                      |  9                      | neutral or dissatisfied |\n",
       "| 4                       | 119299                  | Male                    | Loyal Customer          | 61                      | Business travel         | Business                |  214                    | 3                       | 3                       | ...                     | 3                       | 3                       | 4                       | 4                       | 3                       | 3                       | 3                       |  0                      |  0                      | satisfied               |\n",
       "\n"
      ],
      "text/plain": [
       "  X id     Gender Customer.Type     Age Type.of.Travel  Class   \n",
       "1 0  70172 Male   Loyal Customer    13  Personal Travel Eco Plus\n",
       "2 1   5047 Male   disloyal Customer 25  Business travel Business\n",
       "3 2 110028 Female Loyal Customer    26  Business travel Business\n",
       "4 3  24026 Female Loyal Customer    25  Business travel Business\n",
       "5 4 119299 Male   Loyal Customer    61  Business travel Business\n",
       "  Flight.Distance Inflight.wifi.service Departure.Arrival.time.convenient ...\n",
       "1  460            3                     4                                 ...\n",
       "2  235            3                     2                                 ...\n",
       "3 1142            2                     2                                 ...\n",
       "4  562            2                     5                                 ...\n",
       "5  214            3                     3                                 ...\n",
       "  Inflight.entertainment On.board.service Leg.room.service Baggage.handling\n",
       "1 5                      4                3                4               \n",
       "2 1                      1                5                3               \n",
       "3 5                      4                3                4               \n",
       "4 2                      2                5                3               \n",
       "5 3                      3                4                4               \n",
       "  Checkin.service Inflight.service Cleanliness Departure.Delay.in.Minutes\n",
       "1 4               5                5           25                        \n",
       "2 1               4                1            1                        \n",
       "3 4               4                5            0                        \n",
       "4 1               4                2           11                        \n",
       "5 3               3                3            0                        \n",
       "  Arrival.Delay.in.Minutes satisfaction           \n",
       "1 18                       neutral or dissatisfied\n",
       "2  6                       neutral or dissatisfied\n",
       "3  0                       satisfied              \n",
       "4  9                       neutral or dissatisfied\n",
       "5  0                       satisfied              "
      ]
     },
     "metadata": {},
     "output_type": "display_data"
    }
   ],
   "source": [
    "train <- read.csv(\"train.csv\", stringsAsFactors = F) # dataset for analysis and training the ML model \n",
    "test <- read.csv(\"test.csv\", stringsAsFactors = F) # dataset for prediction and accuracy testing\n",
    "head(train, 5)"
   ]
  },
  {
   "cell_type": "markdown",
   "metadata": {},
   "source": [
    "## Dataset Cleansing"
   ]
  },
  {
   "cell_type": "markdown",
   "metadata": {},
   "source": [
    "Checking For NA Values And Replacing If Any"
   ]
  },
  {
   "cell_type": "code",
   "execution_count": 4,
   "metadata": {},
   "outputs": [
    {
     "data": {
      "text/html": [
       "FALSE"
      ],
      "text/latex": [
       "FALSE"
      ],
      "text/markdown": [
       "FALSE"
      ],
      "text/plain": [
       "[1] FALSE"
      ]
     },
     "metadata": {},
     "output_type": "display_data"
    },
    {
     "data": {
      "text/html": [
       "FALSE"
      ],
      "text/latex": [
       "FALSE"
      ],
      "text/markdown": [
       "FALSE"
      ],
      "text/plain": [
       "[1] FALSE"
      ]
     },
     "metadata": {},
     "output_type": "display_data"
    }
   ],
   "source": [
    "# TRAIN DATASET\n",
    "train <- train[,-1] # remove extra row being created\n",
    "train[is.na(train)] <- 0 # replacing NA values with 0\n",
    "any(is.na(train)) # checking if any NA values left\n",
    "\n",
    "# TEST DATASET\n",
    "test <- test[,-1]\n",
    "test[is.na(test)] <- 0\n",
    "any(is.na(test))"
   ]
  },
  {
   "cell_type": "markdown",
   "metadata": {},
   "source": [
    "Changing The Datatype Of Columns"
   ]
  },
  {
   "cell_type": "code",
   "execution_count": 5,
   "metadata": {},
   "outputs": [],
   "source": [
    "# TRAIN DATASET\n",
    "# converting into factor datatype\n",
    "train$Gender = as.factor(train$Gender)\n",
    "train$Customer.Type = as.factor(train$Customer.Type) \n",
    "train$Type.of.Travel = as.factor(train$Type.of.Travel) \n",
    "train$Class = as.factor(train$Class)\n",
    "train$Inflight.wifi.service = as.factor(train$Inflight.wifi.service) \n",
    "train$Departure.Arrival.time.convenient = as.factor(train$Departure.Arrival.time.convenient) \n",
    "train$Ease.of.Online.booking = as.factor(train$Ease.of.Online.booking)\n",
    "train$Gate.location = as.factor(train$Gate.location) \n",
    "train$Food.and.drink = as.factor(train$Food.and.drink)\n",
    "train$Online.boarding = as.factor(train$Online.boarding)\n",
    "train$Seat.comfort = as.factor(train$Seat.comfort) \n",
    "train$Inflight.entertainment = as.factor(train$Inflight.entertainment)\n",
    "train$On.board.service = as.factor(train$On.board.service)\n",
    "train$Leg.room.service = as.factor(train$Leg.room.service)\n",
    "train$Baggage.handling = as.factor(train$Baggage.handling)\n",
    "train$Checkin.service = as.factor(train$Checkin.service)\n",
    "train$Inflight.service = as.factor(train$Inflight.service)\n",
    "train$Cleanliness = as.factor(train$Cleanliness)\n",
    "train$satisfaction = as.factor(train$satisfaction)\n",
    "\n",
    "#TEST DATASET\n",
    "test$Gender = as.factor(test$Gender) \n",
    "test$Customer.Type = as.factor(test$Customer.Type) \n",
    "test$Type.of.Travel = as.factor(test$Type.of.Travel) \n",
    "test$Class = as.factor(test$Class)\n",
    "test$Inflight.wifi.service = as.factor(test$Inflight.wifi.service) \n",
    "test$Departure.Arrival.time.convenient = as.factor(test$Departure.Arrival.time.convenient) \n",
    "test$Ease.of.Online.booking = as.factor(test$Ease.of.Online.booking) \n",
    "test$Gate.location = as.factor(test$Gate.location) \n",
    "test$Food.and.drink = as.factor(test$Food.and.drink)\n",
    "test$Online.boarding = as.factor(test$Online.boarding)\n",
    "test$Seat.comfort = as.factor(test$Seat.comfort)\n",
    "test$Inflight.entertainment = as.factor(test$Inflight.entertainment)\n",
    "test$On.board.service = as.factor(test$On.board.service)\n",
    "test$Leg.room.service = as.factor(test$Leg.room.service)\n",
    "test$Baggage.handling = as.factor(test$Baggage.handling)\n",
    "test$Checkin.service = as.factor(test$Checkin.service)\n",
    "test$Inflight.service = as.factor(test$Inflight.service)\n",
    "test$Cleanliness = as.factor(test$Cleanliness)\n",
    "test$satisfaction = as.factor(test$satisfaction)"
   ]
  },
  {
   "cell_type": "markdown",
   "metadata": {},
   "source": [
    "## Dataset Exploration"
   ]
  },
  {
   "cell_type": "code",
   "execution_count": 6,
   "metadata": {
    "scrolled": false
   },
   "outputs": [
    {
     "name": "stdout",
     "output_type": "stream",
     "text": [
      "'data.frame':\t103904 obs. of  24 variables:\n",
      " $ id                               : int  70172 5047 110028 24026 119299 111157 82113 96462 79485 65725 ...\n",
      " $ Gender                           : Factor w/ 2 levels \"Female\",\"Male\": 2 2 1 1 2 1 2 1 1 2 ...\n",
      " $ Customer.Type                    : Factor w/ 2 levels \"disloyal Customer\",..: 2 1 2 2 2 2 2 2 2 1 ...\n",
      " $ Age                              : int  13 25 26 25 61 26 47 52 41 20 ...\n",
      " $ Type.of.Travel                   : Factor w/ 2 levels \"Business travel\",..: 2 1 1 1 1 2 2 1 1 1 ...\n",
      " $ Class                            : Factor w/ 3 levels \"Business\",\"Eco\",..: 3 1 1 1 1 2 2 1 1 2 ...\n",
      " $ Flight.Distance                  : int  460 235 1142 562 214 1180 1276 2035 853 1061 ...\n",
      " $ Inflight.wifi.service            : Factor w/ 6 levels \"0\",\"1\",\"2\",\"3\",..: 4 4 3 3 4 4 3 5 2 4 ...\n",
      " $ Departure.Arrival.time.convenient: Factor w/ 6 levels \"0\",\"1\",\"2\",\"3\",..: 5 3 3 6 4 5 5 4 3 4 ...\n",
      " $ Ease.of.Online.booking           : Factor w/ 6 levels \"0\",\"1\",\"2\",\"3\",..: 4 4 3 6 4 3 3 5 3 4 ...\n",
      " $ Gate.location                    : Factor w/ 6 levels \"0\",\"1\",\"2\",\"3\",..: 2 4 3 6 4 2 4 5 3 5 ...\n",
      " $ Food.and.drink                   : Factor w/ 6 levels \"0\",\"1\",\"2\",\"3\",..: 6 2 6 3 5 2 3 6 5 3 ...\n",
      " $ Online.boarding                  : Factor w/ 6 levels \"0\",\"1\",\"2\",\"3\",..: 4 4 6 3 6 3 3 6 4 4 ...\n",
      " $ Seat.comfort                     : Factor w/ 6 levels \"0\",\"1\",\"2\",\"3\",..: 6 2 6 3 6 2 3 6 4 4 ...\n",
      " $ Inflight.entertainment           : Factor w/ 6 levels \"0\",\"1\",\"2\",\"3\",..: 6 2 6 3 4 2 3 6 2 3 ...\n",
      " $ On.board.service                 : Factor w/ 6 levels \"0\",\"1\",\"2\",\"3\",..: 5 2 5 3 4 4 4 6 2 3 ...\n",
      " $ Leg.room.service                 : Factor w/ 6 levels \"0\",\"1\",\"2\",\"3\",..: 4 6 4 6 5 5 4 6 3 4 ...\n",
      " $ Baggage.handling                 : Factor w/ 5 levels \"1\",\"2\",\"3\",\"4\",..: 4 3 4 3 4 4 4 5 1 4 ...\n",
      " $ Checkin.service                  : Factor w/ 6 levels \"0\",\"1\",\"2\",\"3\",..: 5 2 5 2 4 5 4 5 5 5 ...\n",
      " $ Inflight.service                 : Factor w/ 6 levels \"0\",\"1\",\"2\",\"3\",..: 6 5 5 5 4 5 6 6 2 4 ...\n",
      " $ Cleanliness                      : Factor w/ 6 levels \"0\",\"1\",\"2\",\"3\",..: 6 2 6 3 4 2 3 5 3 3 ...\n",
      " $ Departure.Delay.in.Minutes       : int  25 1 0 11 0 0 9 4 0 0 ...\n",
      " $ Arrival.Delay.in.Minutes         : num  18 6 0 9 0 0 23 0 0 0 ...\n",
      " $ satisfaction                     : Factor w/ 2 levels \"neutral or dissatisfied\",..: 1 1 2 1 2 1 1 2 1 1 ...\n"
     ]
    }
   ],
   "source": [
    "str(train) # gives the overall structure of the train dataframe (datatype of each column)"
   ]
  },
  {
   "cell_type": "code",
   "execution_count": 7,
   "metadata": {},
   "outputs": [
    {
     "data": {
      "text/plain": [
       "       id            Gender                Customer.Type        Age       \n",
       " Min.   :     1   Female:52727   disloyal Customer:18981   Min.   : 7.00  \n",
       " 1st Qu.: 32534   Male  :51177   Loyal Customer   :84923   1st Qu.:27.00  \n",
       " Median : 64857                                            Median :40.00  \n",
       " Mean   : 64924                                            Mean   :39.38  \n",
       " 3rd Qu.: 97368                                            3rd Qu.:51.00  \n",
       " Max.   :129880                                            Max.   :85.00  \n",
       "         Type.of.Travel       Class       Flight.Distance Inflight.wifi.service\n",
       " Business travel:71655   Business:49665   Min.   :  31    0: 3103              \n",
       " Personal Travel:32249   Eco     :46745   1st Qu.: 414    1:17840              \n",
       "                         Eco Plus: 7494   Median : 843    2:25830              \n",
       "                                          Mean   :1189    3:25868              \n",
       "                                          3rd Qu.:1743    4:19794              \n",
       "                                          Max.   :4983    5:11469              \n",
       " Departure.Arrival.time.convenient Ease.of.Online.booking Gate.location\n",
       " 0: 5300                           0: 4487                0:    1      \n",
       " 1:15498                           1:17525                1:17562      \n",
       " 2:17191                           2:24021                2:19459      \n",
       " 3:17966                           3:24449                3:28577      \n",
       " 4:25546                           4:19571                4:24426      \n",
       " 5:22403                           5:13851                5:13879      \n",
       " Food.and.drink Online.boarding Seat.comfort Inflight.entertainment\n",
       " 0:  107        0: 2428         0:    1      0:   14               \n",
       " 1:12837        1:10692         1:12075      1:12478               \n",
       " 2:21988        2:17505         2:14897      2:17637               \n",
       " 3:22300        3:21804         3:18696      3:19139               \n",
       " 4:24359        4:30762         4:31765      4:29423               \n",
       " 5:22313        5:20713         5:26470      5:25213               \n",
       " On.board.service Leg.room.service Baggage.handling Checkin.service\n",
       " 0:    3          0:  472          1: 7237          0:    1        \n",
       " 1:11872          1:10353          2:11521          1:12890        \n",
       " 2:14681          2:19525          3:20632          2:12893        \n",
       " 3:22833          3:20098          4:37383          3:28446        \n",
       " 4:30867          4:28789          5:27131          4:29055        \n",
       " 5:23648          5:24667                           5:20619        \n",
       " Inflight.service Cleanliness Departure.Delay.in.Minutes\n",
       " 0:    3          0:   12     Min.   :   0.00           \n",
       " 1: 7084          1:13318     1st Qu.:   0.00           \n",
       " 2:11457          2:16132     Median :   0.00           \n",
       " 3:20299          3:24574     Mean   :  14.82           \n",
       " 4:37945          4:27179     3rd Qu.:  12.00           \n",
       " 5:27116          5:22689     Max.   :1592.00           \n",
       " Arrival.Delay.in.Minutes                  satisfaction  \n",
       " Min.   :   0.00          neutral or dissatisfied:58879  \n",
       " 1st Qu.:   0.00          satisfied              :45025  \n",
       " Median :   0.00                                         \n",
       " Mean   :  15.13                                         \n",
       " 3rd Qu.:  13.00                                         \n",
       " Max.   :1584.00                                         "
      ]
     },
     "metadata": {},
     "output_type": "display_data"
    }
   ],
   "source": [
    "summary(train) # gives the statistical data about each of the dataset's columns"
   ]
  },
  {
   "cell_type": "code",
   "execution_count": 8,
   "metadata": {
    "scrolled": true
   },
   "outputs": [
    {
     "data": {
      "text/html": [
       "<table>\n",
       "<thead><tr><th></th><th scope=col>Business</th><th scope=col>Eco</th><th scope=col>Eco Plus</th><th scope=col>Row Total</th></tr></thead>\n",
       "<tbody>\n",
       "\t<tr><th scope=row>Business travel</th><td>45.72298</td><td>19.49588</td><td>3.74384 </td><td>68.9627 </td></tr>\n",
       "\t<tr><th scope=row>Personal Travel</th><td>2.075955</td><td>25.49276</td><td>3.468586</td><td>31.0373 </td></tr>\n",
       "\t<tr><th scope=row>Column Total</th><td>47.79893</td><td>44.98864</td><td>7.212427</td><td>100     </td></tr>\n",
       "</tbody>\n",
       "</table>\n"
      ],
      "text/latex": [
       "\\begin{tabular}{r|llll}\n",
       "  & Business & Eco & Eco Plus & Row Total\\\\\n",
       "\\hline\n",
       "\tBusiness travel & 45.72298 & 19.49588 & 3.74384  & 68.9627 \\\\\n",
       "\tPersonal Travel & 2.075955 & 25.49276 & 3.468586 & 31.0373 \\\\\n",
       "\tColumn Total & 47.79893 & 44.98864 & 7.212427 & 100     \\\\\n",
       "\\end{tabular}\n"
      ],
      "text/markdown": [
       "\n",
       "| <!--/--> | Business | Eco | Eco Plus | Row Total |\n",
       "|---|---|---|---|---|\n",
       "| Business travel | 45.72298 | 19.49588 | 3.74384  | 68.9627  |\n",
       "| Personal Travel | 2.075955 | 25.49276 | 3.468586 | 31.0373  |\n",
       "| Column Total | 47.79893 | 44.98864 | 7.212427 | 100      |\n",
       "\n"
      ],
      "text/plain": [
       "                Business Eco      Eco Plus Row Total\n",
       "Business travel 45.72298 19.49588 3.74384  68.9627  \n",
       "Personal Travel 2.075955 25.49276 3.468586 31.0373  \n",
       "Column Total    47.79893 44.98864 7.212427 100      "
      ]
     },
     "metadata": {},
     "output_type": "display_data"
    }
   ],
   "source": [
    "# A table which represents the percentage of customers of each category\n",
    "t.c <- table(train$Type.of.Travel, train$Class)\n",
    "for(i in 1:nrow(t.c)){\n",
    "    for(j in 1:ncol(t.c)){\n",
    "        t.c[i, j] <- t.c[i, j] * 100 / nrow(train)\n",
    "    }\n",
    "}\n",
    "t.c <- cbind(t.c, \"Row Total\"=c(sum(t.c[1,1], t.c[1,2], t.c[1,3]), sum(t.c[2,1], t.c[2,2], t.c[2,3])))\n",
    "t.c <- rbind(t.c, \"Column Total\"=list(sum(t.c[,1]), sum(t.c[,2]), sum(t.c[,3]),  sum(t.c[,4])))\n",
    "\n",
    "t.c"
   ]
  },
  {
   "cell_type": "markdown",
   "metadata": {},
   "source": [
    "#### Column Description :-\n",
    "`------------------------------------------------------------------------------------------------------------------------------\n",
    "id                                - integer   - Passenger Identification Number                                                \n",
    "Gender                            - factor    - Gender of the passengers (Female, Male)                                        \n",
    "Customer.Type                     - factor    - The customer type (Loyal customer, disloyal customer)                          \n",
    "Age                               - integer   - The actual age of the passengers                                               \n",
    "Type.of.Travel                    - factor    - Purpose of the flight (Personal Travel, Business Travel)                       \n",
    "Class                             - factor    - Travel class in the plane (Business, Eco, Eco Plus)                            \n",
    "Flight.Distance                   - integer   - The flight distance of this journey                                            \n",
    "Inflight.wifi.service             - factor    - Satisfaction level of the inflight wifi service (0:Not Applicable;1-5)         \n",
    "Departure.Arrival.time.convenient - factor    - Satisfaction level of Departure/Arrival time convenient                        Ease.of.Online.booking            - factor    - Satisfaction level of online booking                                           \n",
    "Gate.location                     - factor    - Satisfaction level of Gate location                                            \n",
    "Food.and.drink                    - factor    - Satisfaction level of Food and drink                                           \n",
    "Online.boarding                   - factor    - Satisfaction level of online boarding                                          \n",
    "Seat.comfort                      - factor    - Satisfaction level of Seat comfort                                             \n",
    "Inflight.entertainment            - factor    - Satisfaction level of inflight entertainment                                   \n",
    "On.board.service                  - factor    - Satisfaction level of On-board service                                         \n",
    "Leg.room.service                  - factor    - Satisfaction level of Leg room service                                         \n",
    "Baggage.handling                  - factor    - Satisfaction level of baggage handling                                         \n",
    "Checkin.service                   - factor    - Satisfaction level of Check-in service                                         \n",
    "Inflight.service                  - factor    - Satisfaction level of inflight service                                         \n",
    "Cleanliness                       - factor    - Satisfaction level of Cleanliness                                              \n",
    "Departure.Delay.in.Minutes        - integer   - Minutes delayed when departure                                                 \n",
    "Arrival.Delay.in.Minutes          - integer   - Minutes delayed when Arrival                                                   \n",
    "satisfaction                      - factor    - Satisfied, Dissatisfied or Netural                                             \n",
    "------------------------------------------------------------------------------------------------------------------------------`"
   ]
  },
  {
   "cell_type": "markdown",
   "metadata": {},
   "source": [
    "## Data Visualization"
   ]
  },
  {
   "cell_type": "markdown",
   "metadata": {},
   "source": [
    "### Class Prefered By Personal and Business Trip Customers"
   ]
  },
  {
   "cell_type": "markdown",
   "metadata": {},
   "source": [
    "Gathering Info Regarding The Graph"
   ]
  },
  {
   "cell_type": "code",
   "execution_count": 9,
   "metadata": {},
   "outputs": [
    {
     "data": {
      "text/html": [
       "<ol class=list-inline>\n",
       "\t<li>Personal Travel</li>\n",
       "\t<li>Business travel</li>\n",
       "</ol>\n",
       "\n",
       "<details>\n",
       "\t<summary style=display:list-item;cursor:pointer>\n",
       "\t\t<strong>Levels</strong>:\n",
       "\t</summary>\n",
       "\t<ol class=list-inline>\n",
       "\t\t<li>'Business travel'</li>\n",
       "\t\t<li>'Personal Travel'</li>\n",
       "\t</ol>\n",
       "</details>"
      ],
      "text/latex": [
       "\\begin{enumerate*}\n",
       "\\item Personal Travel\n",
       "\\item Business travel\n",
       "\\end{enumerate*}\n",
       "\n",
       "\\emph{Levels}: \\begin{enumerate*}\n",
       "\\item 'Business travel'\n",
       "\\item 'Personal Travel'\n",
       "\\end{enumerate*}\n"
      ],
      "text/markdown": [
       "1. Personal Travel\n",
       "2. Business travel\n",
       "\n",
       "\n",
       "\n",
       "**Levels**: 1. 'Business travel'\n",
       "2. 'Personal Travel'\n",
       "\n",
       "\n"
      ],
      "text/plain": [
       "[1] Personal Travel Business travel\n",
       "Levels: Business travel Personal Travel"
      ]
     },
     "metadata": {},
     "output_type": "display_data"
    },
    {
     "data": {
      "text/html": [
       "<ol class=list-inline>\n",
       "\t<li>Eco Plus</li>\n",
       "\t<li>Business</li>\n",
       "\t<li>Eco</li>\n",
       "</ol>\n",
       "\n",
       "<details>\n",
       "\t<summary style=display:list-item;cursor:pointer>\n",
       "\t\t<strong>Levels</strong>:\n",
       "\t</summary>\n",
       "\t<ol class=list-inline>\n",
       "\t\t<li>'Business'</li>\n",
       "\t\t<li>'Eco'</li>\n",
       "\t\t<li>'Eco Plus'</li>\n",
       "\t</ol>\n",
       "</details>"
      ],
      "text/latex": [
       "\\begin{enumerate*}\n",
       "\\item Eco Plus\n",
       "\\item Business\n",
       "\\item Eco\n",
       "\\end{enumerate*}\n",
       "\n",
       "\\emph{Levels}: \\begin{enumerate*}\n",
       "\\item 'Business'\n",
       "\\item 'Eco'\n",
       "\\item 'Eco Plus'\n",
       "\\end{enumerate*}\n"
      ],
      "text/markdown": [
       "1. Eco Plus\n",
       "2. Business\n",
       "3. Eco\n",
       "\n",
       "\n",
       "\n",
       "**Levels**: 1. 'Business'\n",
       "2. 'Eco'\n",
       "3. 'Eco Plus'\n",
       "\n",
       "\n"
      ],
      "text/plain": [
       "[1] Eco Plus Business Eco     \n",
       "Levels: Business Eco Eco Plus"
      ]
     },
     "metadata": {},
     "output_type": "display_data"
    }
   ],
   "source": [
    "# unique values present in given column\n",
    "unique(train$Type.of.Travel)\n",
    "unique(train$Class)"
   ]
  },
  {
   "cell_type": "markdown",
   "metadata": {},
   "source": [
    "Creation Of Graph"
   ]
  },
  {
   "cell_type": "code",
   "execution_count": 10,
   "metadata": {},
   "outputs": [
    {
     "data": {
      "image/png": "[encoded data removed]",
      "text/plain": [
       "plot without title"
      ]
     },
     "metadata": {},
     "output_type": "display_data"
    }
   ],
   "source": [
    "# a bar plot class vs type of travel\n",
    "ggplot(data = train, aes(x = Class, fill = Type.of.Travel)) + geom_bar()"
   ]
  },
  {
   "cell_type": "markdown",
   "metadata": {},
   "source": [
    "#### Insights :- \n",
    "From this graph we can infer that Eco Plus class is least prefered by the customers. Also we can see that people taking Business class would most likely be travelling for Business, whereas people take Eco class for both Personal and Business travel."
   ]
  },
  {
   "cell_type": "markdown",
   "metadata": {},
   "source": [
    "### Correlation Between The Delay in Arrival and Departure Time"
   ]
  },
  {
   "cell_type": "markdown",
   "metadata": {},
   "source": [
    "Gathering Info Regarding The Graph"
   ]
  },
  {
   "cell_type": "code",
   "execution_count": 11,
   "metadata": {},
   "outputs": [
    {
     "data": {
      "text/html": [
       "14.815618263012"
      ],
      "text/latex": [
       "14.815618263012"
      ],
      "text/markdown": [
       "14.815618263012"
      ],
      "text/plain": [
       "[1] 14.81562"
      ]
     },
     "metadata": {},
     "output_type": "display_data"
    },
    {
     "data": {
      "text/html": [
       "15.1333923621805"
      ],
      "text/latex": [
       "15.1333923621805"
      ],
      "text/markdown": [
       "15.1333923621805"
      ],
      "text/plain": [
       "[1] 15.13339"
      ]
     },
     "metadata": {},
     "output_type": "display_data"
    }
   ],
   "source": [
    "# calculation of mean of columns\n",
    "mean(train$Departure.Delay.in.Minutes)\n",
    "mean(train$Arrival.Delay.in.Minutes)"
   ]
  },
  {
   "cell_type": "markdown",
   "metadata": {},
   "source": [
    "Creation Of Graph"
   ]
  },
  {
   "cell_type": "code",
   "execution_count": 12,
   "metadata": {},
   "outputs": [
    {
     "data": {
      "image/png": "[encoded data removed]",
      "text/plain": [
       "plot without title"
      ]
     },
     "metadata": {},
     "output_type": "display_data"
    }
   ],
   "source": [
    "# graph to show correlation using scatterplot and linear regression line\n",
    "graph <- ggplot(data = train, aes(x = Departure.Delay.in.Minutes, y = Arrival.Delay.in.Minutes))\n",
    "graph + geom_point() + geom_smooth(method='lm', formula= y~x)"
   ]
  },
  {
   "cell_type": "markdown",
   "metadata": {},
   "source": [
    "#### Insights :- \n",
    "The above graph shows the correlation between the delay in arrival and delay in departure. We can see a clear strong positive correlation between the two columns from the linear regression line."
   ]
  },
  {
   "cell_type": "markdown",
   "metadata": {},
   "source": [
    "### Satisfaction Of Different Age Categories"
   ]
  },
  {
   "cell_type": "markdown",
   "metadata": {},
   "source": [
    "Gathering Info Regarding The Graph"
   ]
  },
  {
   "cell_type": "code",
   "execution_count": 13,
   "metadata": {
    "scrolled": true
   },
   "outputs": [
    {
     "data": {
      "text/html": [
       "103904"
      ],
      "text/latex": [
       "103904"
      ],
      "text/markdown": [
       "103904"
      ],
      "text/plain": [
       "[1] 103904"
      ]
     },
     "metadata": {},
     "output_type": "display_data"
    },
    {
     "data": {
      "text/html": [
       "<ol class=list-inline>\n",
       "\t<li>7</li>\n",
       "\t<li>85</li>\n",
       "</ol>\n"
      ],
      "text/latex": [
       "\\begin{enumerate*}\n",
       "\\item 7\n",
       "\\item 85\n",
       "\\end{enumerate*}\n"
      ],
      "text/markdown": [
       "1. 7\n",
       "2. 85\n",
       "\n",
       "\n"
      ],
      "text/plain": [
       "[1]  7 85"
      ]
     },
     "metadata": {},
     "output_type": "display_data"
    },
    {
     "data": {
      "text/html": [
       "<ol class=list-inline>\n",
       "\t<li>neutral or dissatisfied</li>\n",
       "\t<li>satisfied</li>\n",
       "</ol>\n",
       "\n",
       "<details>\n",
       "\t<summary style=display:list-item;cursor:pointer>\n",
       "\t\t<strong>Levels</strong>:\n",
       "\t</summary>\n",
       "\t<ol class=list-inline>\n",
       "\t\t<li>'neutral or dissatisfied'</li>\n",
       "\t\t<li>'satisfied'</li>\n",
       "\t</ol>\n",
       "</details>"
      ],
      "text/latex": [
       "\\begin{enumerate*}\n",
       "\\item neutral or dissatisfied\n",
       "\\item satisfied\n",
       "\\end{enumerate*}\n",
       "\n",
       "\\emph{Levels}: \\begin{enumerate*}\n",
       "\\item 'neutral or dissatisfied'\n",
       "\\item 'satisfied'\n",
       "\\end{enumerate*}\n"
      ],
      "text/markdown": [
       "1. neutral or dissatisfied\n",
       "2. satisfied\n",
       "\n",
       "\n",
       "\n",
       "**Levels**: 1. 'neutral or dissatisfied'\n",
       "2. 'satisfied'\n",
       "\n",
       "\n"
      ],
      "text/plain": [
       "[1] neutral or dissatisfied satisfied              \n",
       "Levels: neutral or dissatisfied satisfied"
      ]
     },
     "metadata": {},
     "output_type": "display_data"
    }
   ],
   "source": [
    "length(train$Age) # number of rows\n",
    "range(train$Age) # minimum and maximum value in the column\n",
    "unique(train$satisfaction) # unique values in the column"
   ]
  },
  {
   "cell_type": "markdown",
   "metadata": {},
   "source": [
    "Creation Of Graph"
   ]
  },
  {
   "cell_type": "code",
   "execution_count": 14,
   "metadata": {},
   "outputs": [
    {
     "data": {
      "image/png": "[encoded data removed]",
      "text/plain": [
       "plot without title"
      ]
     },
     "metadata": {},
     "output_type": "display_data"
    }
   ],
   "source": [
    "# histogram of Age differenciated using satisfaction\n",
    "ggplot(data = train, aes(x = Age, col = satisfaction)) + geom_histogram(bins = 15)"
   ]
  },
  {
   "cell_type": "markdown",
   "metadata": {},
   "source": [
    "#### Insights :- \n",
    "The above graph shows the satisfaction level of airline experience based on the passenger's age. There are more number of people travelling in the airline in the age category of 25 - 50 years. In that very less percentage of the people are actually satisfied."
   ]
  },
  {
   "cell_type": "markdown",
   "metadata": {},
   "source": [
    "### Customer Satisfaction Compared To Customer Type"
   ]
  },
  {
   "cell_type": "markdown",
   "metadata": {},
   "source": [
    "Gathering Info Regarding The Graph"
   ]
  },
  {
   "cell_type": "code",
   "execution_count": 15,
   "metadata": {},
   "outputs": [
    {
     "data": {
      "text/html": [
       "<ol class=list-inline>\n",
       "\t<li>Loyal Customer</li>\n",
       "\t<li>disloyal Customer</li>\n",
       "</ol>\n",
       "\n",
       "<details>\n",
       "\t<summary style=display:list-item;cursor:pointer>\n",
       "\t\t<strong>Levels</strong>:\n",
       "\t</summary>\n",
       "\t<ol class=list-inline>\n",
       "\t\t<li>'disloyal Customer'</li>\n",
       "\t\t<li>'Loyal Customer'</li>\n",
       "\t</ol>\n",
       "</details>"
      ],
      "text/latex": [
       "\\begin{enumerate*}\n",
       "\\item Loyal Customer\n",
       "\\item disloyal Customer\n",
       "\\end{enumerate*}\n",
       "\n",
       "\\emph{Levels}: \\begin{enumerate*}\n",
       "\\item 'disloyal Customer'\n",
       "\\item 'Loyal Customer'\n",
       "\\end{enumerate*}\n"
      ],
      "text/markdown": [
       "1. Loyal Customer\n",
       "2. disloyal Customer\n",
       "\n",
       "\n",
       "\n",
       "**Levels**: 1. 'disloyal Customer'\n",
       "2. 'Loyal Customer'\n",
       "\n",
       "\n"
      ],
      "text/plain": [
       "[1] Loyal Customer    disloyal Customer\n",
       "Levels: disloyal Customer Loyal Customer"
      ]
     },
     "metadata": {},
     "output_type": "display_data"
    },
    {
     "data": {
      "text/html": [
       "<ol class=list-inline>\n",
       "\t<li>neutral or dissatisfied</li>\n",
       "\t<li>satisfied</li>\n",
       "</ol>\n",
       "\n",
       "<details>\n",
       "\t<summary style=display:list-item;cursor:pointer>\n",
       "\t\t<strong>Levels</strong>:\n",
       "\t</summary>\n",
       "\t<ol class=list-inline>\n",
       "\t\t<li>'neutral or dissatisfied'</li>\n",
       "\t\t<li>'satisfied'</li>\n",
       "\t</ol>\n",
       "</details>"
      ],
      "text/latex": [
       "\\begin{enumerate*}\n",
       "\\item neutral or dissatisfied\n",
       "\\item satisfied\n",
       "\\end{enumerate*}\n",
       "\n",
       "\\emph{Levels}: \\begin{enumerate*}\n",
       "\\item 'neutral or dissatisfied'\n",
       "\\item 'satisfied'\n",
       "\\end{enumerate*}\n"
      ],
      "text/markdown": [
       "1. neutral or dissatisfied\n",
       "2. satisfied\n",
       "\n",
       "\n",
       "\n",
       "**Levels**: 1. 'neutral or dissatisfied'\n",
       "2. 'satisfied'\n",
       "\n",
       "\n"
      ],
      "text/plain": [
       "[1] neutral or dissatisfied satisfied              \n",
       "Levels: neutral or dissatisfied satisfied"
      ]
     },
     "metadata": {},
     "output_type": "display_data"
    }
   ],
   "source": [
    "# to print the unique values in each column\n",
    "unique(train$Customer.Type)\n",
    "unique(train$satisfaction)"
   ]
  },
  {
   "cell_type": "markdown",
   "metadata": {},
   "source": [
    "Creation Of Graph"
   ]
  },
  {
   "cell_type": "code",
   "execution_count": 20,
   "metadata": {},
   "outputs": [
    {
     "data": {
      "image/png": "[encoded data removed]",
      "text/plain": [
       "plot without title"
      ]
     },
     "metadata": {},
     "output_type": "display_data"
    }
   ],
   "source": [
    "# histogram of satisfaction of customer based on the type of customer\n",
    "ggplot(data = train, aes(x = Customer.Type, fill = satisfaction)) + geom_bar()"
   ]
  },
  {
   "cell_type": "markdown",
   "metadata": {},
   "source": [
    "#### Insights :- \n",
    "The above graph shows the satisfaction level of airline experience based on the type of passenger. There are more number of Loyal pasengers comparitively and in general there are more number of people who are dissatisfied or neutral."
   ]
  },
  {
   "cell_type": "markdown",
   "metadata": {},
   "source": [
    "## ML Algorithm For Prediction"
   ]
  },
  {
   "cell_type": "markdown",
   "metadata": {},
   "source": [
    "Creation of Logistic Model"
   ]
  },
  {
   "cell_type": "code",
   "execution_count": 17,
   "metadata": {
    "scrolled": false
   },
   "outputs": [
    {
     "data": {
      "text/plain": [
       "\n",
       "Call:\n",
       "glm(formula = satisfaction ~ Customer.Type + Type.of.Travel + \n",
       "    Class + Flight.Distance + Departure.Arrival.time.convenient + \n",
       "    Ease.of.Online.booking + Online.boarding + Baggage.handling + \n",
       "    Departure.Delay.in.Minutes + Arrival.Delay.in.Minutes, family = \"binomial\", \n",
       "    data = train)\n",
       "\n",
       "Deviance Residuals: \n",
       "    Min       1Q   Median       3Q      Max  \n",
       "-3.4360  -0.3995  -0.0905   0.3224   4.1826  \n",
       "\n",
       "Coefficients:\n",
       "                                     Estimate Std. Error z value Pr(>|z|)    \n",
       "(Intercept)                         4.069e-01  7.619e-02   5.340 9.29e-08 ***\n",
       "Customer.TypeLoyal Customer         2.332e+00  3.363e-02  69.346  < 2e-16 ***\n",
       "Type.of.TravelPersonal Travel      -3.380e+00  3.651e-02 -92.565  < 2e-16 ***\n",
       "ClassEco                           -6.767e-01  2.715e-02 -24.928  < 2e-16 ***\n",
       "ClassEco Plus                      -8.544e-01  4.366e-02 -19.570  < 2e-16 ***\n",
       "Flight.Distance                     3.653e-05  1.199e-05   3.046  0.00232 ** \n",
       "Departure.Arrival.time.convenient1  2.849e-01  6.586e-02   4.325 1.52e-05 ***\n",
       "Departure.Arrival.time.convenient2  4.139e-01  6.391e-02   6.476 9.43e-11 ***\n",
       "Departure.Arrival.time.convenient3  2.612e-01  6.252e-02   4.177 2.95e-05 ***\n",
       "Departure.Arrival.time.convenient4 -4.609e-01  5.652e-02  -8.155 3.50e-16 ***\n",
       "Departure.Arrival.time.convenient5 -6.124e-01  5.933e-02 -10.321  < 2e-16 ***\n",
       "Ease.of.Online.booking1            -2.643e+00  8.895e-02 -29.715  < 2e-16 ***\n",
       "Ease.of.Online.booking2            -2.880e+00  8.697e-02 -33.115  < 2e-16 ***\n",
       "Ease.of.Online.booking3            -2.640e+00  8.578e-02 -30.772  < 2e-16 ***\n",
       "Ease.of.Online.booking4            -1.565e+00  8.217e-02 -19.044  < 2e-16 ***\n",
       "Ease.of.Online.booking5            -1.224e+00  8.390e-02 -14.588  < 2e-16 ***\n",
       "Online.boarding1                   -1.590e+00  9.597e-02 -16.564  < 2e-16 ***\n",
       "Online.boarding2                   -1.782e+00  9.478e-02 -18.797  < 2e-16 ***\n",
       "Online.boarding3                   -1.837e+00  9.340e-02 -19.670  < 2e-16 ***\n",
       "Online.boarding4                    3.998e-01  9.194e-02   4.349 1.37e-05 ***\n",
       "Online.boarding5                    2.467e+00  9.479e-02  26.024  < 2e-16 ***\n",
       "Baggage.handling2                  -1.516e-01  4.764e-02  -3.181  0.00147 ** \n",
       "Baggage.handling3                  -1.786e-01  4.431e-02  -4.031 5.56e-05 ***\n",
       "Baggage.handling4                   1.208e+00  4.178e-02  28.917  < 2e-16 ***\n",
       "Baggage.handling5                   2.269e+00  4.563e-02  49.716  < 2e-16 ***\n",
       "Departure.Delay.in.Minutes          4.008e-03  9.979e-04   4.017 5.90e-05 ***\n",
       "Arrival.Delay.in.Minutes           -8.439e-03  9.884e-04  -8.538  < 2e-16 ***\n",
       "---\n",
       "Signif. codes:  0 '***' 0.001 '**' 0.01 '*' 0.05 '.' 0.1 ' ' 1\n",
       "\n",
       "(Dispersion parameter for binomial family taken to be 1)\n",
       "\n",
       "    Null deviance: 142189  on 103903  degrees of freedom\n",
       "Residual deviance:  59116  on 103877  degrees of freedom\n",
       "AIC: 59170\n",
       "\n",
       "Number of Fisher Scoring iterations: 6\n"
      ]
     },
     "metadata": {},
     "output_type": "display_data"
    }
   ],
   "source": [
    "# logistic model created\n",
    "logistic <- glm(data = train, \n",
    "             satisfaction ~ Customer.Type \n",
    "             + Type.of.Travel \n",
    "             + Class\n",
    "             + Flight.Distance\n",
    "             + Departure.Arrival.time.convenient\n",
    "             + Ease.of.Online.booking\n",
    "             + Online.boarding\n",
    "             + Baggage.handling\n",
    "             + Departure.Delay.in.Minutes\n",
    "             + Arrival.Delay.in.Minutes, \n",
    "             family = \"binomial\") # family is binomial as output has only two values (satisfied or neutral/dissatisfied)\n",
    "\n",
    "summary(logistic) # all mathematical calculations about the model"
   ]
  },
  {
   "cell_type": "markdown",
   "metadata": {},
   "source": [
    "Predicting For Test Dataset"
   ]
  },
  {
   "cell_type": "code",
   "execution_count": 18,
   "metadata": {},
   "outputs": [],
   "source": [
    "# prediction of satisfaction of the passengers of test dataset\n",
    "pred <- predict(logistic, newData = test, type = \"response\")"
   ]
  },
  {
   "cell_type": "markdown",
   "metadata": {},
   "source": [
    "Accuracy Testing"
   ]
  },
  {
   "cell_type": "code",
   "execution_count": 19,
   "metadata": {},
   "outputs": [
    {
     "name": "stdout",
     "output_type": "stream",
     "text": [
      "[1] \"Accuracy Rate of Prediction: 51.02%\"\n"
     ]
    }
   ],
   "source": [
    "y_pred <- ifelse(pred > 0.5, \"satisfied\", \"neutral or dissatisfied\") # classifying as the two values\n",
    "y_act <- test$satisfaction\n",
    "\n",
    "accuracy.rate <- round(mean(y_pred == y_act) * 100, 2) # calculation of percentage of accuracy\n",
    "print(paste(\"Accuracy Rate of Prediction: \", accuracy.rate, \"%\", sep = ''))"
   ]
  },
  {
   "cell_type": "markdown",
   "metadata": {},
   "source": [
    "A logistic model has been created with which prediction for the test dataset has been taken. Now we have calculated the accuracy of the model by comparing the predicted value with the actual value. We saw that our model had 51.02% accuracy rate."
   ]
  },
  {
   "cell_type": "markdown",
   "metadata": {},
   "source": [
    "#### Conclusion :- \n",
    "Our project has helped us in understanding what is present in a general passenger feedback form and how satisfied the passengers are. We first explored the dataset, and did prediction if the passenger is satisfied or not."
   ]
  },
  {
   "cell_type": "markdown",
   "metadata": {},
   "source": [
    "#### Future Scope :- \n",
    "As we can see the accuracy level for this model is 51.02%, hence to increase the accuracy we can use multiple algorithms and do tuning to the algorithms or we can go for assemble methods."
   ]
  },
  {
   "cell_type": "markdown",
   "metadata": {},
   "source": [
    "#### References :- \n",
    "https://www.kaggle.com/teejmahal20/airline-passenger-satisfaction"
   ]
  }
 ],
 "metadata": {
  "kernelspec": {
   "display_name": "R",
   "language": "R",
   "name": "ir"
  },
  "language_info": {
   "codemirror_mode": "r",
   "file_extension": ".r",
   "mimetype": "text/x-r-source",
   "name": "R",
   "pygments_lexer": "r",
   "version": "3.6.1"
  }
 },
 "nbformat": 4,
 "nbformat_minor": 4
}
